{
 "cells": [
  {
   "cell_type": "markdown",
   "id": "a5c06b50",
   "metadata": {},
   "source": [
    "# Задачи по Эконометрике: интерпретация коэффициентов\n",
    "# Sleep Equation"
   ]
  },
  {
   "cell_type": "markdown",
   "id": "2f93047d",
   "metadata": {},
   "source": [
    "## Sleep Equation (Модель 1)\n",
    "\n",
    "На датасете `sleep75` рассмотрим региессию **sleep на totwrk, male**\n",
    "\n",
    "Спецификация: $sleep=\\beta_0+\\beta_1totwrk+\\beta_2male+u$"
   ]
  },
  {
   "cell_type": "code",
   "execution_count": 1,
   "id": "26858fa7",
   "metadata": {},
   "outputs": [],
   "source": [
    "import numpy as np # linear algebra \n",
    "import pandas as pd # data processing, CSV file I/O (e.g. pd.read_csv)\n",
    "# stats models: regression fitting via formulas\n",
    "import statsmodels.formula.api as smf\n",
    "# stats models: regression fitting via matrices of regression design\n",
    "import statsmodels.api as sm"
   ]
  },
  {
   "cell_type": "code",
   "execution_count": 2,
   "id": "cad28da3",
   "metadata": {},
   "outputs": [],
   "source": [
    "df = pd.read_csv('/Users/maria/Downloads/Econometrica-master-2/python-notebooks/data-csv/sleep75.csv')"
   ]
  },
  {
   "cell_type": "markdown",
   "id": "2f77e322",
   "metadata": {},
   "source": [
    "### Первый способ оценивания: \n",
    "через спецификацию"
   ]
  },
  {
   "cell_type": "code",
   "execution_count": 3,
   "id": "c43e651e",
   "metadata": {},
   "outputs": [
    {
     "data": {
      "text/plain": [
       "Intercept    3573.20\n",
       "totwrk         -0.17\n",
       "male           88.84\n",
       "dtype: float64"
      ]
     },
     "execution_count": 3,
     "metadata": {},
     "output_type": "execute_result"
    }
   ],
   "source": [
    "# специфицируем модель через формулу\n",
    "sleep_eq1 = smf.ols(formula='sleep~totwrk+male', data=df).fit()\n",
    "# Коэфициенты модели с округление\n",
    "sleep_eq1.params.round(2)"
   ]
  },
  {
   "cell_type": "code",
   "execution_count": 4,
   "id": "c4d775a0",
   "metadata": {},
   "outputs": [
    {
     "data": {
      "text/plain": [
       "Intercept    3573.20\n",
       "totwrk         -0.17\n",
       "male           88.84\n",
       "dtype: float64"
      ]
     },
     "execution_count": 4,
     "metadata": {},
     "output_type": "execute_result"
    }
   ],
   "source": [
    "# Альтеративно\n",
    "sleep_eq2 = sm.OLS.from_formula(formula='sleep~totwrk+male', data=df).fit()\n",
    "# Коэфициенты модели с округление\n",
    "sleep_eq2.params.round(2)"
   ]
  },
  {
   "cell_type": "markdown",
   "id": "b1407ea2",
   "metadata": {},
   "source": [
    "### Второй способ оценивания: \n",
    "через матрицы ргерессионного дизайна $\\mathbf{y}, \\mathbf{X}$"
   ]
  },
  {
   "cell_type": "code",
   "execution_count": 5,
   "id": "f77af104",
   "metadata": {},
   "outputs": [
    {
     "data": {
      "text/html": [
       "<div>\n",
       "<style scoped>\n",
       "    .dataframe tbody tr th:only-of-type {\n",
       "        vertical-align: middle;\n",
       "    }\n",
       "\n",
       "    .dataframe tbody tr th {\n",
       "        vertical-align: top;\n",
       "    }\n",
       "\n",
       "    .dataframe thead th {\n",
       "        text-align: right;\n",
       "    }\n",
       "</style>\n",
       "<table border=\"1\" class=\"dataframe\">\n",
       "  <thead>\n",
       "    <tr style=\"text-align: right;\">\n",
       "      <th></th>\n",
       "      <th>const</th>\n",
       "      <th>totwrk</th>\n",
       "      <th>male</th>\n",
       "    </tr>\n",
       "  </thead>\n",
       "  <tbody>\n",
       "    <tr>\n",
       "      <th>0</th>\n",
       "      <td>1.0</td>\n",
       "      <td>3438</td>\n",
       "      <td>1</td>\n",
       "    </tr>\n",
       "    <tr>\n",
       "      <th>1</th>\n",
       "      <td>1.0</td>\n",
       "      <td>5020</td>\n",
       "      <td>1</td>\n",
       "    </tr>\n",
       "    <tr>\n",
       "      <th>2</th>\n",
       "      <td>1.0</td>\n",
       "      <td>2815</td>\n",
       "      <td>1</td>\n",
       "    </tr>\n",
       "    <tr>\n",
       "      <th>3</th>\n",
       "      <td>1.0</td>\n",
       "      <td>3786</td>\n",
       "      <td>0</td>\n",
       "    </tr>\n",
       "    <tr>\n",
       "      <th>4</th>\n",
       "      <td>1.0</td>\n",
       "      <td>2580</td>\n",
       "      <td>1</td>\n",
       "    </tr>\n",
       "    <tr>\n",
       "      <th>5</th>\n",
       "      <td>1.0</td>\n",
       "      <td>1205</td>\n",
       "      <td>1</td>\n",
       "    </tr>\n",
       "    <tr>\n",
       "      <th>6</th>\n",
       "      <td>1.0</td>\n",
       "      <td>2113</td>\n",
       "      <td>1</td>\n",
       "    </tr>\n",
       "  </tbody>\n",
       "</table>\n",
       "</div>"
      ],
      "text/plain": [
       "   const  totwrk  male\n",
       "0    1.0    3438     1\n",
       "1    1.0    5020     1\n",
       "2    1.0    2815     1\n",
       "3    1.0    3786     0\n",
       "4    1.0    2580     1\n",
       "5    1.0    1205     1\n",
       "6    1.0    2113     1"
      ]
     },
     "execution_count": 5,
     "metadata": {},
     "output_type": "execute_result"
    }
   ],
   "source": [
    "# Зададим матрицы регрессионного дизайна\n",
    "y = df['sleep'] # зависимая переменная\n",
    "X = sm.add_constant(df[['totwrk', 'male']]) # регрессоры с добавленным столбом единиц\n",
    "X.head(n=7)"
   ]
  },
  {
   "cell_type": "code",
   "execution_count": 6,
   "id": "c84c85d7",
   "metadata": {},
   "outputs": [
    {
     "data": {
      "text/plain": [
       "const     3573.20\n",
       "totwrk      -0.17\n",
       "male        88.84\n",
       "dtype: float64"
      ]
     },
     "execution_count": 6,
     "metadata": {},
     "output_type": "execute_result"
    }
   ],
   "source": [
    "# Погоним модель\n",
    "sleep_eq3 = sm.OLS(y, X).fit()\n",
    "# Коэфициенты модели с округление\n",
    "sleep_eq3.params.round(2)"
   ]
  },
  {
   "cell_type": "markdown",
   "id": "75a97e35",
   "metadata": {},
   "source": [
    "## Sleep Equation (Модель 2)\n",
    "На датасете `sleep75` рассмотрим региессию **sleep на totwrk, male, smsa, age, south, yngkid, marr, union**\n",
    "\n",
    "Спецификация: $sleep=\\beta_0+\\beta_1totwrk+\\beta_2male+\\cdots+u$"
   ]
  },
  {
   "cell_type": "code",
   "execution_count": 41,
   "id": "129ba41f",
   "metadata": {},
   "outputs": [
    {
     "data": {
      "text/html": [
       "<div>\n",
       "<style scoped>\n",
       "    .dataframe tbody tr th:only-of-type {\n",
       "        vertical-align: middle;\n",
       "    }\n",
       "\n",
       "    .dataframe tbody tr th {\n",
       "        vertical-align: top;\n",
       "    }\n",
       "\n",
       "    .dataframe thead th {\n",
       "        text-align: right;\n",
       "    }\n",
       "</style>\n",
       "<table border=\"1\" class=\"dataframe\">\n",
       "  <thead>\n",
       "    <tr style=\"text-align: right;\">\n",
       "      <th></th>\n",
       "      <th>sleep</th>\n",
       "      <th>totwrk</th>\n",
       "      <th>male</th>\n",
       "      <th>smsa</th>\n",
       "      <th>age</th>\n",
       "      <th>south</th>\n",
       "      <th>yngkid</th>\n",
       "      <th>marr</th>\n",
       "      <th>union</th>\n",
       "    </tr>\n",
       "  </thead>\n",
       "  <tbody>\n",
       "    <tr>\n",
       "      <th>count</th>\n",
       "      <td>706.000000</td>\n",
       "      <td>706.000000</td>\n",
       "      <td>706.000000</td>\n",
       "      <td>706.000000</td>\n",
       "      <td>706.000000</td>\n",
       "      <td>706.000000</td>\n",
       "      <td>706.000000</td>\n",
       "      <td>706.00000</td>\n",
       "      <td>706.000000</td>\n",
       "    </tr>\n",
       "    <tr>\n",
       "      <th>mean</th>\n",
       "      <td>3266.355524</td>\n",
       "      <td>2122.920680</td>\n",
       "      <td>0.566572</td>\n",
       "      <td>0.399433</td>\n",
       "      <td>38.815864</td>\n",
       "      <td>0.184136</td>\n",
       "      <td>0.128895</td>\n",
       "      <td>0.82153</td>\n",
       "      <td>0.218130</td>\n",
       "    </tr>\n",
       "    <tr>\n",
       "      <th>std</th>\n",
       "      <td>444.413448</td>\n",
       "      <td>947.470123</td>\n",
       "      <td>0.495900</td>\n",
       "      <td>0.490129</td>\n",
       "      <td>11.342637</td>\n",
       "      <td>0.387870</td>\n",
       "      <td>0.335321</td>\n",
       "      <td>0.38318</td>\n",
       "      <td>0.413269</td>\n",
       "    </tr>\n",
       "    <tr>\n",
       "      <th>min</th>\n",
       "      <td>755.000000</td>\n",
       "      <td>0.000000</td>\n",
       "      <td>0.000000</td>\n",
       "      <td>0.000000</td>\n",
       "      <td>23.000000</td>\n",
       "      <td>0.000000</td>\n",
       "      <td>0.000000</td>\n",
       "      <td>0.00000</td>\n",
       "      <td>0.000000</td>\n",
       "    </tr>\n",
       "    <tr>\n",
       "      <th>25%</th>\n",
       "      <td>3015.000000</td>\n",
       "      <td>1553.500000</td>\n",
       "      <td>0.000000</td>\n",
       "      <td>0.000000</td>\n",
       "      <td>29.000000</td>\n",
       "      <td>0.000000</td>\n",
       "      <td>0.000000</td>\n",
       "      <td>1.00000</td>\n",
       "      <td>0.000000</td>\n",
       "    </tr>\n",
       "    <tr>\n",
       "      <th>50%</th>\n",
       "      <td>3270.500000</td>\n",
       "      <td>2288.000000</td>\n",
       "      <td>1.000000</td>\n",
       "      <td>0.000000</td>\n",
       "      <td>36.000000</td>\n",
       "      <td>0.000000</td>\n",
       "      <td>0.000000</td>\n",
       "      <td>1.00000</td>\n",
       "      <td>0.000000</td>\n",
       "    </tr>\n",
       "    <tr>\n",
       "      <th>75%</th>\n",
       "      <td>3532.250000</td>\n",
       "      <td>2691.750000</td>\n",
       "      <td>1.000000</td>\n",
       "      <td>1.000000</td>\n",
       "      <td>48.000000</td>\n",
       "      <td>0.000000</td>\n",
       "      <td>0.000000</td>\n",
       "      <td>1.00000</td>\n",
       "      <td>0.000000</td>\n",
       "    </tr>\n",
       "    <tr>\n",
       "      <th>max</th>\n",
       "      <td>4695.000000</td>\n",
       "      <td>6415.000000</td>\n",
       "      <td>1.000000</td>\n",
       "      <td>1.000000</td>\n",
       "      <td>65.000000</td>\n",
       "      <td>1.000000</td>\n",
       "      <td>1.000000</td>\n",
       "      <td>1.00000</td>\n",
       "      <td>1.000000</td>\n",
       "    </tr>\n",
       "  </tbody>\n",
       "</table>\n",
       "</div>"
      ],
      "text/plain": [
       "             sleep       totwrk        male        smsa         age  \\\n",
       "count   706.000000   706.000000  706.000000  706.000000  706.000000   \n",
       "mean   3266.355524  2122.920680    0.566572    0.399433   38.815864   \n",
       "std     444.413448   947.470123    0.495900    0.490129   11.342637   \n",
       "min     755.000000     0.000000    0.000000    0.000000   23.000000   \n",
       "25%    3015.000000  1553.500000    0.000000    0.000000   29.000000   \n",
       "50%    3270.500000  2288.000000    1.000000    0.000000   36.000000   \n",
       "75%    3532.250000  2691.750000    1.000000    1.000000   48.000000   \n",
       "max    4695.000000  6415.000000    1.000000    1.000000   65.000000   \n",
       "\n",
       "            south      yngkid       marr       union  \n",
       "count  706.000000  706.000000  706.00000  706.000000  \n",
       "mean     0.184136    0.128895    0.82153    0.218130  \n",
       "std      0.387870    0.335321    0.38318    0.413269  \n",
       "min      0.000000    0.000000    0.00000    0.000000  \n",
       "25%      0.000000    0.000000    1.00000    0.000000  \n",
       "50%      0.000000    0.000000    1.00000    0.000000  \n",
       "75%      0.000000    0.000000    1.00000    0.000000  \n",
       "max      1.000000    1.000000    1.00000    1.000000  "
      ]
     },
     "execution_count": 41,
     "metadata": {},
     "output_type": "execute_result"
    }
   ],
   "source": [
    "# Описательные статистики по переменным модели\n",
    "df[['sleep', 'totwrk', 'male', 'smsa', 'age', 'south', 'yngkid', 'marr', 'union']].describe()"
   ]
  },
  {
   "cell_type": "markdown",
   "id": "e430b2f0",
   "metadata": {},
   "source": [
    "### Первый способ оценивания: \n",
    "через спецификацию"
   ]
  },
  {
   "cell_type": "code",
   "execution_count": 42,
   "id": "df9db1d8",
   "metadata": {},
   "outputs": [
    {
     "data": {
      "text/plain": [
       "Intercept    3446.83\n",
       "totwrk         -0.17\n",
       "male           87.11\n",
       "smsa          -54.19\n",
       "age             2.71\n",
       "south         102.27\n",
       "yngkid        -13.05\n",
       "marr           31.36\n",
       "union          11.87\n",
       "dtype: float64"
      ]
     },
     "execution_count": 42,
     "metadata": {},
     "output_type": "execute_result"
    }
   ],
   "source": [
    "# специфицируем моделл через формулу\n",
    "sleep_eq1 = smf.ols(formula='sleep~totwrk+male+smsa+age+south+yngkid+marr+union', data=df).fit()\n",
    "# Коэфициенты модели с округление\n",
    "sleep_eq1.params.round(2)"
   ]
  },
  {
   "cell_type": "code",
   "execution_count": 43,
   "id": "0fbd85e3",
   "metadata": {},
   "outputs": [
    {
     "data": {
      "text/plain": [
       "706.0"
      ]
     },
     "execution_count": 43,
     "metadata": {},
     "output_type": "execute_result"
    }
   ],
   "source": [
    "# Число наблюдений, под которые подгонялась модель\n",
    "sleep_eq1.nobs"
   ]
  },
  {
   "cell_type": "code",
   "execution_count": 44,
   "id": "6178bd03",
   "metadata": {},
   "outputs": [
    {
     "data": {
      "text/plain": [
       "Intercept    3446.83\n",
       "totwrk         -0.17\n",
       "male           87.11\n",
       "smsa          -54.19\n",
       "age             2.71\n",
       "south         102.27\n",
       "yngkid        -13.05\n",
       "marr           31.36\n",
       "union          11.87\n",
       "dtype: float64"
      ]
     },
     "execution_count": 44,
     "metadata": {},
     "output_type": "execute_result"
    }
   ],
   "source": [
    "# Альтеративно\n",
    "sleep_eq2 = sm.OLS.from_formula(formula='sleep~totwrk+male+smsa+age+south+yngkid+marr+union', \n",
    "                                data=df).fit()\n",
    "# Коэфициенты модели с округление\n",
    "sleep_eq2.params.round(2)"
   ]
  },
  {
   "cell_type": "markdown",
   "id": "f32f9531",
   "metadata": {},
   "source": [
    "### Второй способ оценивания: \n",
    "через матрицы регрессионного дизайна $\\mathbf{y}, \\mathbf{X}$"
   ]
  },
  {
   "cell_type": "code",
   "execution_count": 45,
   "id": "f93afdf4",
   "metadata": {},
   "outputs": [
    {
     "data": {
      "text/html": [
       "<div>\n",
       "<style scoped>\n",
       "    .dataframe tbody tr th:only-of-type {\n",
       "        vertical-align: middle;\n",
       "    }\n",
       "\n",
       "    .dataframe tbody tr th {\n",
       "        vertical-align: top;\n",
       "    }\n",
       "\n",
       "    .dataframe thead th {\n",
       "        text-align: right;\n",
       "    }\n",
       "</style>\n",
       "<table border=\"1\" class=\"dataframe\">\n",
       "  <thead>\n",
       "    <tr style=\"text-align: right;\">\n",
       "      <th></th>\n",
       "      <th>const</th>\n",
       "      <th>totwrk</th>\n",
       "      <th>male</th>\n",
       "      <th>smsa</th>\n",
       "      <th>age</th>\n",
       "      <th>south</th>\n",
       "      <th>yngkid</th>\n",
       "      <th>marr</th>\n",
       "      <th>union</th>\n",
       "    </tr>\n",
       "  </thead>\n",
       "  <tbody>\n",
       "    <tr>\n",
       "      <th>699</th>\n",
       "      <td>1.0</td>\n",
       "      <td>2725</td>\n",
       "      <td>1</td>\n",
       "      <td>0</td>\n",
       "      <td>61</td>\n",
       "      <td>0</td>\n",
       "      <td>0</td>\n",
       "      <td>1</td>\n",
       "      <td>0</td>\n",
       "    </tr>\n",
       "    <tr>\n",
       "      <th>700</th>\n",
       "      <td>1.0</td>\n",
       "      <td>2388</td>\n",
       "      <td>0</td>\n",
       "      <td>1</td>\n",
       "      <td>32</td>\n",
       "      <td>1</td>\n",
       "      <td>0</td>\n",
       "      <td>0</td>\n",
       "      <td>0</td>\n",
       "    </tr>\n",
       "    <tr>\n",
       "      <th>701</th>\n",
       "      <td>1.0</td>\n",
       "      <td>2026</td>\n",
       "      <td>0</td>\n",
       "      <td>1</td>\n",
       "      <td>45</td>\n",
       "      <td>0</td>\n",
       "      <td>0</td>\n",
       "      <td>1</td>\n",
       "      <td>0</td>\n",
       "    </tr>\n",
       "    <tr>\n",
       "      <th>702</th>\n",
       "      <td>1.0</td>\n",
       "      <td>675</td>\n",
       "      <td>1</td>\n",
       "      <td>0</td>\n",
       "      <td>34</td>\n",
       "      <td>0</td>\n",
       "      <td>0</td>\n",
       "      <td>1</td>\n",
       "      <td>1</td>\n",
       "    </tr>\n",
       "    <tr>\n",
       "      <th>703</th>\n",
       "      <td>1.0</td>\n",
       "      <td>1851</td>\n",
       "      <td>0</td>\n",
       "      <td>0</td>\n",
       "      <td>37</td>\n",
       "      <td>0</td>\n",
       "      <td>0</td>\n",
       "      <td>1</td>\n",
       "      <td>0</td>\n",
       "    </tr>\n",
       "    <tr>\n",
       "      <th>704</th>\n",
       "      <td>1.0</td>\n",
       "      <td>1961</td>\n",
       "      <td>0</td>\n",
       "      <td>0</td>\n",
       "      <td>54</td>\n",
       "      <td>1</td>\n",
       "      <td>0</td>\n",
       "      <td>1</td>\n",
       "      <td>1</td>\n",
       "    </tr>\n",
       "    <tr>\n",
       "      <th>705</th>\n",
       "      <td>1.0</td>\n",
       "      <td>2363</td>\n",
       "      <td>0</td>\n",
       "      <td>0</td>\n",
       "      <td>30</td>\n",
       "      <td>1</td>\n",
       "      <td>1</td>\n",
       "      <td>1</td>\n",
       "      <td>0</td>\n",
       "    </tr>\n",
       "  </tbody>\n",
       "</table>\n",
       "</div>"
      ],
      "text/plain": [
       "     const  totwrk  male  smsa  age  south  yngkid  marr  union\n",
       "699    1.0    2725     1     0   61      0       0     1      0\n",
       "700    1.0    2388     0     1   32      1       0     0      0\n",
       "701    1.0    2026     0     1   45      0       0     1      0\n",
       "702    1.0     675     1     0   34      0       0     1      1\n",
       "703    1.0    1851     0     0   37      0       0     1      0\n",
       "704    1.0    1961     0     0   54      1       0     1      1\n",
       "705    1.0    2363     0     0   30      1       1     1      0"
      ]
     },
     "execution_count": 45,
     "metadata": {},
     "output_type": "execute_result"
    }
   ],
   "source": [
    "# Зададим матрицы регрессионного дизайна\n",
    "y = df['sleep'] # зависимая переменная\n",
    "# регрессоры с добавленным столбом единиц\n",
    "X = sm.add_constant(df[['totwrk', 'male', 'smsa', 'age', 'south', 'yngkid', 'marr', 'union']])  \n",
    "X.tail(n=7)"
   ]
  },
  {
   "cell_type": "code",
   "execution_count": 46,
   "id": "6c927681",
   "metadata": {},
   "outputs": [
    {
     "data": {
      "text/plain": [
       "const     3446.83\n",
       "totwrk      -0.17\n",
       "male        87.11\n",
       "smsa       -54.19\n",
       "age          2.71\n",
       "south      102.27\n",
       "yngkid     -13.05\n",
       "marr        31.36\n",
       "union       11.87\n",
       "dtype: float64"
      ]
     },
     "execution_count": 46,
     "metadata": {},
     "output_type": "execute_result"
    }
   ],
   "source": [
    "# Погоним модель\n",
    "sleep_eq3 = sm.OLS(y, X).fit()\n",
    "# Коэфициенты модели с округлением\n",
    "sleep_eq3.params.round(2)"
   ]
  },
  {
   "cell_type": "markdown",
   "id": "a79f9eb1",
   "metadata": {},
   "source": [
    "## Sleep Equation (Модель 3)\n",
    "На датасете `sleep75` рассмотрим региессию **sleep на log(hrwage), smsa, totwrk, male, marr, age, south, yngkid**\n",
    "\n",
    "Спецификация: $sleep=\\beta_0+\\beta_1\\log(hrwage)+\\cdots+u$"
   ]
  },
  {
   "cell_type": "code",
   "execution_count": 47,
   "id": "a1392acf",
   "metadata": {},
   "outputs": [
    {
     "data": {
      "text/html": [
       "<div>\n",
       "<style scoped>\n",
       "    .dataframe tbody tr th:only-of-type {\n",
       "        vertical-align: middle;\n",
       "    }\n",
       "\n",
       "    .dataframe tbody tr th {\n",
       "        vertical-align: top;\n",
       "    }\n",
       "\n",
       "    .dataframe thead th {\n",
       "        text-align: right;\n",
       "    }\n",
       "</style>\n",
       "<table border=\"1\" class=\"dataframe\">\n",
       "  <thead>\n",
       "    <tr style=\"text-align: right;\">\n",
       "      <th></th>\n",
       "      <th>sleep</th>\n",
       "      <th>hrwage</th>\n",
       "      <th>smsa</th>\n",
       "      <th>totwrk</th>\n",
       "      <th>male</th>\n",
       "      <th>marr</th>\n",
       "      <th>age</th>\n",
       "      <th>south</th>\n",
       "      <th>yngkid</th>\n",
       "    </tr>\n",
       "  </thead>\n",
       "  <tbody>\n",
       "    <tr>\n",
       "      <th>count</th>\n",
       "      <td>706.000000</td>\n",
       "      <td>532.000000</td>\n",
       "      <td>706.000000</td>\n",
       "      <td>706.000000</td>\n",
       "      <td>706.000000</td>\n",
       "      <td>706.00000</td>\n",
       "      <td>706.000000</td>\n",
       "      <td>706.000000</td>\n",
       "      <td>706.000000</td>\n",
       "    </tr>\n",
       "    <tr>\n",
       "      <th>mean</th>\n",
       "      <td>3266.355524</td>\n",
       "      <td>5.082839</td>\n",
       "      <td>0.399433</td>\n",
       "      <td>2122.920680</td>\n",
       "      <td>0.566572</td>\n",
       "      <td>0.82153</td>\n",
       "      <td>38.815864</td>\n",
       "      <td>0.184136</td>\n",
       "      <td>0.128895</td>\n",
       "    </tr>\n",
       "    <tr>\n",
       "      <th>std</th>\n",
       "      <td>444.413448</td>\n",
       "      <td>3.704385</td>\n",
       "      <td>0.490129</td>\n",
       "      <td>947.470123</td>\n",
       "      <td>0.495900</td>\n",
       "      <td>0.38318</td>\n",
       "      <td>11.342637</td>\n",
       "      <td>0.387870</td>\n",
       "      <td>0.335321</td>\n",
       "    </tr>\n",
       "    <tr>\n",
       "      <th>min</th>\n",
       "      <td>755.000000</td>\n",
       "      <td>0.350000</td>\n",
       "      <td>0.000000</td>\n",
       "      <td>0.000000</td>\n",
       "      <td>0.000000</td>\n",
       "      <td>0.00000</td>\n",
       "      <td>23.000000</td>\n",
       "      <td>0.000000</td>\n",
       "      <td>0.000000</td>\n",
       "    </tr>\n",
       "    <tr>\n",
       "      <th>25%</th>\n",
       "      <td>3015.000000</td>\n",
       "      <td>2.890002</td>\n",
       "      <td>0.000000</td>\n",
       "      <td>1553.500000</td>\n",
       "      <td>0.000000</td>\n",
       "      <td>1.00000</td>\n",
       "      <td>29.000000</td>\n",
       "      <td>0.000000</td>\n",
       "      <td>0.000000</td>\n",
       "    </tr>\n",
       "    <tr>\n",
       "      <th>50%</th>\n",
       "      <td>3270.500000</td>\n",
       "      <td>4.379999</td>\n",
       "      <td>0.000000</td>\n",
       "      <td>2288.000000</td>\n",
       "      <td>1.000000</td>\n",
       "      <td>1.00000</td>\n",
       "      <td>36.000000</td>\n",
       "      <td>0.000000</td>\n",
       "      <td>0.000000</td>\n",
       "    </tr>\n",
       "    <tr>\n",
       "      <th>75%</th>\n",
       "      <td>3532.250000</td>\n",
       "      <td>6.210001</td>\n",
       "      <td>1.000000</td>\n",
       "      <td>2691.750000</td>\n",
       "      <td>1.000000</td>\n",
       "      <td>1.00000</td>\n",
       "      <td>48.000000</td>\n",
       "      <td>0.000000</td>\n",
       "      <td>0.000000</td>\n",
       "    </tr>\n",
       "    <tr>\n",
       "      <th>max</th>\n",
       "      <td>4695.000000</td>\n",
       "      <td>35.509987</td>\n",
       "      <td>1.000000</td>\n",
       "      <td>6415.000000</td>\n",
       "      <td>1.000000</td>\n",
       "      <td>1.00000</td>\n",
       "      <td>65.000000</td>\n",
       "      <td>1.000000</td>\n",
       "      <td>1.000000</td>\n",
       "    </tr>\n",
       "  </tbody>\n",
       "</table>\n",
       "</div>"
      ],
      "text/plain": [
       "             sleep      hrwage        smsa       totwrk        male  \\\n",
       "count   706.000000  532.000000  706.000000   706.000000  706.000000   \n",
       "mean   3266.355524    5.082839    0.399433  2122.920680    0.566572   \n",
       "std     444.413448    3.704385    0.490129   947.470123    0.495900   \n",
       "min     755.000000    0.350000    0.000000     0.000000    0.000000   \n",
       "25%    3015.000000    2.890002    0.000000  1553.500000    0.000000   \n",
       "50%    3270.500000    4.379999    0.000000  2288.000000    1.000000   \n",
       "75%    3532.250000    6.210001    1.000000  2691.750000    1.000000   \n",
       "max    4695.000000   35.509987    1.000000  6415.000000    1.000000   \n",
       "\n",
       "            marr         age       south      yngkid  \n",
       "count  706.00000  706.000000  706.000000  706.000000  \n",
       "mean     0.82153   38.815864    0.184136    0.128895  \n",
       "std      0.38318   11.342637    0.387870    0.335321  \n",
       "min      0.00000   23.000000    0.000000    0.000000  \n",
       "25%      1.00000   29.000000    0.000000    0.000000  \n",
       "50%      1.00000   36.000000    0.000000    0.000000  \n",
       "75%      1.00000   48.000000    0.000000    0.000000  \n",
       "max      1.00000   65.000000    1.000000    1.000000  "
      ]
     },
     "execution_count": 47,
     "metadata": {},
     "output_type": "execute_result"
    }
   ],
   "source": [
    "# Описательные статистики по переменным модели\n",
    "df[['sleep', 'hrwage', 'smsa', 'totwrk', 'male', 'marr', 'age', 'south', 'yngkid']].describe()"
   ]
  },
  {
   "cell_type": "markdown",
   "id": "7d2f5559",
   "metadata": {},
   "source": [
    "*Замечание*: есть пропущенные значения по hrwage\n",
    "### Первый способ оценивания: \n",
    "через спецификацию"
   ]
  },
  {
   "cell_type": "code",
   "execution_count": 48,
   "id": "666568d6",
   "metadata": {},
   "outputs": [
    {
     "data": {
      "text/plain": [
       "Intercept         3440.19\n",
       "np.log(hrwage)      -1.39\n",
       "smsa               -36.96\n",
       "totwrk              -0.16\n",
       "male                36.87\n",
       "marr                53.34\n",
       "age                  2.37\n",
       "south               76.27\n",
       "yngkid              47.92\n",
       "dtype: float64"
      ]
     },
     "execution_count": 48,
     "metadata": {},
     "output_type": "execute_result"
    }
   ],
   "source": [
    "# специфицируем моделл через формулу\n",
    "sleep_eq1 = smf.ols(formula='sleep~np.log(hrwage)+smsa+totwrk+male+marr+age+south+yngkid', data=df).fit()\n",
    "# Коэфициенты модели с округление\n",
    "sleep_eq1.params.round(2)"
   ]
  },
  {
   "cell_type": "code",
   "execution_count": 49,
   "id": "0c7fb8aa",
   "metadata": {},
   "outputs": [
    {
     "data": {
      "text/plain": [
       "532.0"
      ]
     },
     "execution_count": 49,
     "metadata": {},
     "output_type": "execute_result"
    }
   ],
   "source": [
    "# Число наблюдений, под которые подгонялась модель\n",
    "sleep_eq1.nobs"
   ]
  },
  {
   "cell_type": "code",
   "execution_count": 50,
   "id": "588cbca0",
   "metadata": {},
   "outputs": [
    {
     "data": {
      "text/plain": [
       "Intercept         3440.19\n",
       "np.log(hrwage)      -1.39\n",
       "smsa               -36.96\n",
       "totwrk              -0.16\n",
       "male                36.87\n",
       "marr                53.34\n",
       "age                  2.37\n",
       "south               76.27\n",
       "yngkid              47.92\n",
       "dtype: float64"
      ]
     },
     "execution_count": 50,
     "metadata": {},
     "output_type": "execute_result"
    }
   ],
   "source": [
    "# Альтеративно\n",
    "sleep_eq2 = sm.OLS.from_formula(formula='sleep~np.log(hrwage)+smsa+totwrk+male+marr+age+south+yngkid', \n",
    "                                data=df).fit()\n",
    "# Коэфициенты модели с округление\n",
    "sleep_eq2.params.round(2)"
   ]
  },
  {
   "cell_type": "markdown",
   "id": "e6374ea7",
   "metadata": {},
   "source": [
    "### Второй способ оценивания: \n",
    "через матрицы регрессионного дизайна $\\mathbf{y}, \\mathbf{X}$"
   ]
  },
  {
   "cell_type": "code",
   "execution_count": 51,
   "id": "0472b916",
   "metadata": {},
   "outputs": [
    {
     "data": {
      "text/html": [
       "<div>\n",
       "<style scoped>\n",
       "    .dataframe tbody tr th:only-of-type {\n",
       "        vertical-align: middle;\n",
       "    }\n",
       "\n",
       "    .dataframe tbody tr th {\n",
       "        vertical-align: top;\n",
       "    }\n",
       "\n",
       "    .dataframe thead th {\n",
       "        text-align: right;\n",
       "    }\n",
       "</style>\n",
       "<table border=\"1\" class=\"dataframe\">\n",
       "  <thead>\n",
       "    <tr style=\"text-align: right;\">\n",
       "      <th></th>\n",
       "      <th>const</th>\n",
       "      <th>lhrwage</th>\n",
       "      <th>smsa</th>\n",
       "      <th>totwrk</th>\n",
       "      <th>male</th>\n",
       "      <th>marr</th>\n",
       "      <th>age</th>\n",
       "      <th>south</th>\n",
       "      <th>yngkid</th>\n",
       "    </tr>\n",
       "  </thead>\n",
       "  <tbody>\n",
       "    <tr>\n",
       "      <th>699</th>\n",
       "      <td>1.0</td>\n",
       "      <td>NaN</td>\n",
       "      <td>0</td>\n",
       "      <td>2725</td>\n",
       "      <td>1</td>\n",
       "      <td>1</td>\n",
       "      <td>61</td>\n",
       "      <td>0</td>\n",
       "      <td>0</td>\n",
       "    </tr>\n",
       "    <tr>\n",
       "      <th>700</th>\n",
       "      <td>1.0</td>\n",
       "      <td>NaN</td>\n",
       "      <td>1</td>\n",
       "      <td>2388</td>\n",
       "      <td>0</td>\n",
       "      <td>0</td>\n",
       "      <td>32</td>\n",
       "      <td>1</td>\n",
       "      <td>0</td>\n",
       "    </tr>\n",
       "    <tr>\n",
       "      <th>701</th>\n",
       "      <td>1.0</td>\n",
       "      <td>NaN</td>\n",
       "      <td>1</td>\n",
       "      <td>2026</td>\n",
       "      <td>0</td>\n",
       "      <td>1</td>\n",
       "      <td>45</td>\n",
       "      <td>0</td>\n",
       "      <td>0</td>\n",
       "    </tr>\n",
       "    <tr>\n",
       "      <th>702</th>\n",
       "      <td>1.0</td>\n",
       "      <td>NaN</td>\n",
       "      <td>0</td>\n",
       "      <td>675</td>\n",
       "      <td>1</td>\n",
       "      <td>1</td>\n",
       "      <td>34</td>\n",
       "      <td>0</td>\n",
       "      <td>0</td>\n",
       "    </tr>\n",
       "    <tr>\n",
       "      <th>703</th>\n",
       "      <td>1.0</td>\n",
       "      <td>NaN</td>\n",
       "      <td>0</td>\n",
       "      <td>1851</td>\n",
       "      <td>0</td>\n",
       "      <td>1</td>\n",
       "      <td>37</td>\n",
       "      <td>0</td>\n",
       "      <td>0</td>\n",
       "    </tr>\n",
       "    <tr>\n",
       "      <th>704</th>\n",
       "      <td>1.0</td>\n",
       "      <td>NaN</td>\n",
       "      <td>0</td>\n",
       "      <td>1961</td>\n",
       "      <td>0</td>\n",
       "      <td>1</td>\n",
       "      <td>54</td>\n",
       "      <td>1</td>\n",
       "      <td>0</td>\n",
       "    </tr>\n",
       "    <tr>\n",
       "      <th>705</th>\n",
       "      <td>1.0</td>\n",
       "      <td>NaN</td>\n",
       "      <td>0</td>\n",
       "      <td>2363</td>\n",
       "      <td>0</td>\n",
       "      <td>1</td>\n",
       "      <td>30</td>\n",
       "      <td>1</td>\n",
       "      <td>1</td>\n",
       "    </tr>\n",
       "  </tbody>\n",
       "</table>\n",
       "</div>"
      ],
      "text/plain": [
       "     const  lhrwage  smsa  totwrk  male  marr  age  south  yngkid\n",
       "699    1.0      NaN     0    2725     1     1   61      0       0\n",
       "700    1.0      NaN     1    2388     0     0   32      1       0\n",
       "701    1.0      NaN     1    2026     0     1   45      0       0\n",
       "702    1.0      NaN     0     675     1     1   34      0       0\n",
       "703    1.0      NaN     0    1851     0     1   37      0       0\n",
       "704    1.0      NaN     0    1961     0     1   54      1       0\n",
       "705    1.0      NaN     0    2363     0     1   30      1       1"
      ]
     },
     "execution_count": 51,
     "metadata": {},
     "output_type": "execute_result"
    }
   ],
   "source": [
    "# Зададим матрицы регрессионного дизайна\n",
    "y = df['sleep'] # зависимая переменная\n",
    "# в исходом датасете есть переменная lhrwage=log(hrwage)\n",
    "# регрессоры с добавленным столбом единиц\n",
    "X = sm.add_constant(df[['lhrwage', 'smsa', 'totwrk', 'male', 'marr', 'age', 'south', 'yngkid']])  \n",
    "X.tail(n=7)"
   ]
  },
  {
   "cell_type": "code",
   "execution_count": 52,
   "id": "0637e971",
   "metadata": {},
   "outputs": [
    {
     "data": {
      "text/plain": [
       "const      3440.19\n",
       "lhrwage      -1.39\n",
       "smsa        -36.96\n",
       "totwrk       -0.16\n",
       "male         36.87\n",
       "marr         53.34\n",
       "age           2.37\n",
       "south        76.27\n",
       "yngkid       47.92\n",
       "dtype: float64"
      ]
     },
     "execution_count": 52,
     "metadata": {},
     "output_type": "execute_result"
    }
   ],
   "source": [
    "# Погоним модель (удалим пропущенные наблюдения с missing='drop')\n",
    "sleep_eq3 = sm.OLS(y, X, missing='drop').fit()\n",
    "# Коэфициенты модели с округление\n",
    "sleep_eq3.params.round(2)"
   ]
  }
 ],
 "metadata": {
  "kernelspec": {
   "display_name": "Python 3 (ipykernel)",
   "language": "python",
   "name": "python3"
  },
  "language_info": {
   "codemirror_mode": {
    "name": "ipython",
    "version": 3
   },
   "file_extension": ".py",
   "mimetype": "text/x-python",
   "name": "python",
   "nbconvert_exporter": "python",
   "pygments_lexer": "ipython3",
   "version": "3.9.16"
  }
 },
 "nbformat": 4,
 "nbformat_minor": 5
}
